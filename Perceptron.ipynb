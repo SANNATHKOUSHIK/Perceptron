{
 "cells": [
  {
   "cell_type": "code",
   "execution_count": 13,
   "metadata": {},
   "outputs": [],
   "source": [
    "import numpy as np\n",
    "import matplotlib.pyplot as plt"
   ]
  },
  {
   "cell_type": "code",
   "execution_count": 14,
   "metadata": {},
   "outputs": [],
   "source": [
    "X1 = [10,-1,8,-20]\n",
    "X2 = [12,5,16,-16]\n",
    "Y = [8,4,6,0]"
   ]
  },
  {
   "cell_type": "markdown",
   "metadata": {},
   "source": [
    "Y = W<sub>1</sub> * X<sub>1</sub> +  W<sub>2</sub> * X<sub>2</sub> "
   ]
  },
  {
   "cell_type": "code",
   "execution_count": 29,
   "metadata": {},
   "outputs": [],
   "source": [
    "def forward_pass(w1,w2,bias,Y):\n",
    "    error = 0\n",
    "    y_pred = []\n",
    "    for i in range(len(X1)):\n",
    "        y = w1 * X1[i] + w2 * X2[i] + bias\n",
    "        y_pred.append(y)\n",
    "        error += (y - Y[i])**2\n",
    "        \n",
    "    return y_pred , error"
   ]
  },
  {
   "cell_type": "code",
   "execution_count": 16,
   "metadata": {},
   "outputs": [],
   "source": [
    "def weight_update(w1,w2,Y,bias,y_pred, alpha):\n",
    "    for i in range(len(X1)):\n",
    "        dJ_dw1 = ((y_pred[i] - Y[i])**2) * (X1[i])\n",
    "        dJ_dw2 = ((y_pred[i] - Y[i])**2) * (X2[i])\n",
    "        dJ_dbias = ((y_pred[i] - Y[i])**2)\n",
    "        w1 = w1 - alpha * dJ_dw1\n",
    "        w2 = w2 - alpha * dJ_dw2\n",
    "        bias = bias - alpha * dJ_dbias\n",
    "    return w1 , w2 , bias"
   ]
  },
  {
   "cell_type": "code",
   "execution_count": 30,
   "metadata": {},
   "outputs": [],
   "source": [
    "def train_model(X1,X2,Y,epochs,learning_rate):\n",
    "    np.random.seed(123)\n",
    "    random_wieghts = np.random.randn(3)\n",
    "    w1 ,w2, bias = random_wieghts\n",
    "    weights = []\n",
    "    weights.append([w1,w2,bias])\n",
    "    er = 0\n",
    "    for i in range(epochs):\n",
    "        y_pred , sse = forward_pass(w1,w2,bias,Y)\n",
    "        if i=0:\n",
    "            er = sse\n",
    "        print(f\"epoch : {i} || Error : {sse}\")\n",
    "        w1 , w2, bias = weight_update(w1,w2,Y,bias,y_pred,learning_rate)\n",
    "    return y_pred\n"
   ]
  },
  {
   "cell_type": "code",
   "execution_count": 27,
   "metadata": {},
   "outputs": [
    {
     "name": "stdout",
     "output_type": "stream",
     "text": [
      "epoch : 0 || Error : 88.05370902676059\n",
      "epoch : 1 || Error : 32.819935929458715\n"
     ]
    }
   ],
   "source": [
    "y_pred = train_model(X1, X2, Y, epochs=400, learning_rate=0.001)"
   ]
  },
  {
   "cell_type": "code",
   "execution_count": 28,
   "metadata": {},
   "outputs": [
    {
     "data": {
      "text/plain": [
       "[4.017571936307023, 5.9549147954177455, 9.593434477039766, 0.47512045719802587]"
      ]
     },
     "execution_count": 28,
     "metadata": {},
     "output_type": "execute_result"
    }
   ],
   "source": [
    "y_pred"
   ]
  },
  {
   "cell_type": "code",
   "execution_count": 31,
   "metadata": {},
   "outputs": [],
   "source": [
    "a , b, c = [1,2,3]"
   ]
  },
  {
   "cell_type": "code",
   "execution_count": 32,
   "metadata": {},
   "outputs": [
    {
     "data": {
      "text/plain": [
       "1"
      ]
     },
     "execution_count": 32,
     "metadata": {},
     "output_type": "execute_result"
    }
   ],
   "source": [
    "a"
   ]
  }
 ],
 "metadata": {
  "kernelspec": {
   "display_name": "Python 3",
   "language": "python",
   "name": "python3"
  },
  "language_info": {
   "codemirror_mode": {
    "name": "ipython",
    "version": 3
   },
   "file_extension": ".py",
   "mimetype": "text/x-python",
   "name": "python",
   "nbconvert_exporter": "python",
   "pygments_lexer": "ipython3",
   "version": "3.11.0"
  },
  "orig_nbformat": 4
 },
 "nbformat": 4,
 "nbformat_minor": 2
}
