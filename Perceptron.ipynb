{
 "cells": [
  {
   "cell_type": "code",
   "execution_count": 13,
   "metadata": {},
   "outputs": [],
   "source": [
    "import numpy as np\n",
    "import matplotlib.pyplot as plt"
   ]
  },
  {
   "cell_type": "code",
   "execution_count": 14,
   "metadata": {},
   "outputs": [],
   "source": [
    "X1 = [10,-1,8,-20]\n",
    "X2 = [12,5,16,-16]\n",
    "Y = [8,4,6,0]"
   ]
  },
  {
   "cell_type": "markdown",
   "metadata": {},
   "source": [
    "Y = A * X1 +  B * X2 [considering the y-intercept as 0]"
   ]
  },
  {
   "cell_type": "code",
   "execution_count": 15,
   "metadata": {},
   "outputs": [],
   "source": [
    "def forward_pass(A,B,bias,Y):\n",
    "    error = 0\n",
    "    y_pred = []\n",
    "    for i in range(len(X1)):\n",
    "        y = A * X1[i] + B * X2[i] + bias\n",
    "        y_pred.append(y)\n",
    "        error += (y - Y[i])**2\n",
    "        \n",
    "    return y_pred , error"
   ]
  },
  {
   "cell_type": "code",
   "execution_count": 16,
   "metadata": {},
   "outputs": [],
   "source": [
    "def weight_update(A,B,Y,bias,y_pred, alpha):\n",
    "    for i in range(len(X1)):\n",
    "        dJ_dA = ((y_pred[i] - Y[i])**2) * (X1[i])\n",
    "        dJ_dB = ((y_pred[i] - Y[i])**2) * (X2[i])\n",
    "        dJ_dbias = ((y_pred[i] - Y[i])**2)\n",
    "        A = A - alpha * dJ_dA\n",
    "        B = B - alpha * dJ_dB\n",
    "        bias = bias - alpha * dJ_dbias\n",
    "    return A , B , bias"
   ]
  },
  {
   "cell_type": "code",
   "execution_count": 17,
   "metadata": {},
   "outputs": [],
   "source": [
    "def train_model(X1,X2,Y,epochs,learning_rate):\n",
    "    np.random.seed(123)\n",
    "    random_wieghts = np.random.randn(3)\n",
    "    A ,B, bias = random_wieghts\n",
    "    for i in range(epochs):\n",
    "        y_pred , sse = forward_pass(A,B,bias,Y)\n",
    "        print(f\"epoch : {i} || Error : {sse}\")\n",
    "        A , B, bias = weight_update(A,B,Y,bias,y_pred,learning_rate)\n",
    "        if sse < 80:\n",
    "            break\n",
    "\n",
    "    return y_pred\n"
   ]
  },
  {
   "cell_type": "code",
   "execution_count": 27,
   "metadata": {},
   "outputs": [
    {
     "name": "stdout",
     "output_type": "stream",
     "text": [
      "epoch : 0 || Error : 88.05370902676059\n",
      "epoch : 1 || Error : 32.819935929458715\n"
     ]
    }
   ],
   "source": [
    "y_pred = train_model(X1, X2, Y, epochs=400, learning_rate=0.001)"
   ]
  },
  {
   "cell_type": "code",
   "execution_count": 28,
   "metadata": {},
   "outputs": [
    {
     "data": {
      "text/plain": [
       "[4.017571936307023, 5.9549147954177455, 9.593434477039766, 0.47512045719802587]"
      ]
     },
     "execution_count": 28,
     "metadata": {},
     "output_type": "execute_result"
    }
   ],
   "source": [
    "y_pred"
   ]
  }
 ],
 "metadata": {
  "kernelspec": {
   "display_name": "Python 3",
   "language": "python",
   "name": "python3"
  },
  "language_info": {
   "codemirror_mode": {
    "name": "ipython",
    "version": 3
   },
   "file_extension": ".py",
   "mimetype": "text/x-python",
   "name": "python",
   "nbconvert_exporter": "python",
   "pygments_lexer": "ipython3",
   "version": "3.11.0"
  },
  "orig_nbformat": 4
 },
 "nbformat": 4,
 "nbformat_minor": 2
}
